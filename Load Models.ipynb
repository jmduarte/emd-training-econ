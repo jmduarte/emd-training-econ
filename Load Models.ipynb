{
 "cells": [
  {
   "cell_type": "code",
   "execution_count": 6,
   "metadata": {},
   "outputs": [
    {
     "name": "stdout",
     "output_type": "stream",
     "text": [
      "2.4.1\n",
      "1\n"
     ]
    }
   ],
   "source": [
    "import numpy as np\n",
    "import pandas as pd\n",
    "import math\n",
    "\n",
    "import itertools\n",
    "\n",
    "import os\n",
    "import sys\n",
    "sys.path.insert(0, \"../\")\n",
    "\n",
    "import matplotlib\n",
    "matplotlib.use('Agg')\n",
    "%matplotlib inline\n",
    "import matplotlib.pyplot as plt\n",
    "from plotWafer import plotWafer\n",
    "from train import emd\n",
    "\n",
    "import os\n",
    "\n",
    "import tensorflow as tf\n",
    "from tensorflow import keras\n",
    "\n",
    "import tensorflow\n",
    "from tensorflow.keras.layers import Input, Dense, Flatten, Concatenate, BatchNormalization, Activation, Average, Conv2D\n",
    "from tensorflow.keras.models import Model\n",
    "from keras.models import load_model\n",
    "from tensorflow.keras.regularizers import l1_l2\n",
    "\n",
    "print(tf.version.VERSION)\n",
    "\n",
    "arrange443 = np.array([0,16, 32,\n",
    "                       1,17, 33,\n",
    "                       2,18, 34,\n",
    "                       3,19, 35,\n",
    "                       4,20, 36,\n",
    "                       5,21, 37,\n",
    "                       6,22, 38,\n",
    "                       7,23, 39,\n",
    "                       8,24, 40,\n",
    "                       9,25, 41,\n",
    "                       10,26, 42,\n",
    "                       11,27, 43,\n",
    "                       12,28, 44,\n",
    "                       13,29, 45,\n",
    "                       14,30, 46,\n",
    "                       15,31, 47])\n",
    "print(1)"
   ]
  },
  {
   "cell_type": "code",
   "execution_count": 7,
   "metadata": {},
   "outputs": [
    {
     "name": "stdout",
     "output_type": "stream",
     "text": [
      "(25600, 4, 4, 3)\n",
      "(25600, 4, 4, 3)\n",
      "(25600,)\n",
      "(11664, 4, 4, 3)\n",
      "(11664, 4, 4, 3)\n",
      "(11664,)\n"
     ]
    }
   ],
   "source": [
    "current_directory=os.getcwd()\n",
    "data_directory=os.path.join(current_directory,r'data/ttbar_v11_eolNoise_Layer9_5Links.csv')\n",
    "f_raw = (data_directory)\n",
    "\n",
    "calQ     = np.genfromtxt(f_raw, delimiter=',',usecols=[*range(0, 48)],skip_header=2000,max_rows=300)\n",
    "sumQ     = calQ.sum(axis=1)\n",
    "calQ     = calQ[sumQ>0]\n",
    "sumQ     = sumQ[sumQ>0]\n",
    "occ = (np.count_nonzero(calQ>1,axis=1))\n",
    "\n",
    "# reshape into 443 and normalize (as is usually done for autoencoder)\n",
    "calQ_443 = (calQ/np.expand_dims(sumQ,-1))[:,arrange443].reshape(-1,4,4,3)\n",
    "\n",
    "# split train and validation so there is no overlap in samples whatsoever\n",
    "train_indices = range(0, int(0.6*len(calQ)))\n",
    "val_indices = range(int(0.6*len(calQ)), len(calQ))\n",
    "\n",
    "idx1_train = np.array([i for i,j in itertools.product(train_indices,train_indices)])\n",
    "idx2_train = np.array([j for i,j in itertools.product(train_indices,train_indices)])\n",
    "\n",
    "use443 = True\n",
    "if use443: \n",
    "    X = calQ_443\n",
    "else:\n",
    "    X = calQ\n",
    "X1_train = X[idx1_train]\n",
    "X2_train = X[idx2_train]\n",
    "y_train = np.array([emd(calQ[i],calQ[j]) for i, j in zip(idx1_train, idx2_train)])\n",
    "\n",
    "idx1_val = np.array([i for i,j in itertools.product(val_indices,val_indices)])\n",
    "idx2_val = np.array([j for i,j in itertools.product(val_indices,val_indices)])\n",
    "\n",
    "X1_val = X[idx1_val]\n",
    "X2_val = X[idx2_val]\n",
    "y_val = np.array([emd(calQ[i],calQ[j]) for i, j in zip(idx1_val, idx2_val)])\n",
    "\n",
    "print(X1_train.shape)\n",
    "print(X2_train.shape)\n",
    "print(y_train.shape)\n",
    "\n",
    "print(X1_val.shape)\n",
    "print(X2_val.shape)\n",
    "print(y_val.shape)"
   ]
  },
  {
   "cell_type": "code",
   "execution_count": 8,
   "metadata": {},
   "outputs": [
    {
     "name": "stdout",
     "output_type": "stream",
     "text": [
      "/home/jovyan/Best/8.h5\n",
      "Model: \"sym_model\"\n",
      "__________________________________________________________________________________________________\n",
      "Layer (type)                    Output Shape         Param #     Connected to                     \n",
      "==================================================================================================\n",
      "input_1 (InputLayer)            [(None, 4, 4, 3)]    0                                            \n",
      "__________________________________________________________________________________________________\n",
      "input_2 (InputLayer)            [(None, 4, 4, 3)]    0                                            \n",
      "__________________________________________________________________________________________________\n",
      "base_model (Functional)         (None, 1)            1776385     input_1[0][0]                    \n",
      "                                                                 input_2[0][0]                    \n",
      "                                                                 input_2[0][0]                    \n",
      "                                                                 input_1[0][0]                    \n",
      "__________________________________________________________________________________________________\n",
      "average (Average)               (None, 1)            0           base_model[0][0]                 \n",
      "                                                                 base_model[1][0]                 \n",
      "==================================================================================================\n",
      "Total params: 1,776,385\n",
      "Trainable params: 1,774,849\n",
      "Non-trainable params: 1,536\n",
      "__________________________________________________________________________________________________\n",
      "Model: \"sym_model\"\n",
      "__________________________________________________________________________________________________\n",
      "Layer (type)                    Output Shape         Param #     Connected to                     \n",
      "==================================================================================================\n",
      "input_1 (InputLayer)            [(None, 4, 4, 3)]    0                                            \n",
      "__________________________________________________________________________________________________\n",
      "input_2 (InputLayer)            [(None, 4, 4, 3)]    0                                            \n",
      "__________________________________________________________________________________________________\n",
      "sym_model (Functional)          (None, 1)            1776385     input_1[0][0]                    \n",
      "                                                                 input_2[0][0]                    \n",
      "                                                                 input_2[0][0]                    \n",
      "                                                                 input_1[0][0]                    \n",
      "__________________________________________________________________________________________________\n",
      "average (Average)               (None, 1)            0           sym_model[0][0]                  \n",
      "                                                                 sym_model[1][0]                  \n",
      "==================================================================================================\n",
      "Total params: 1,776,385\n",
      "Trainable params: 1,774,849\n",
      "Non-trainable params: 1,536\n",
      "__________________________________________________________________________________________________\n"
     ]
    }
   ],
   "source": [
    "#Load Models\n",
    "model_directory=os.path.join(current_directory,r'Best/1.h5')\n",
    "print(model_directory)\n",
    "\n",
    "input1 = Input(shape=(4, 4, 3,), name='input_1')\n",
    "input2 = Input(shape=(4, 4, 3,), name='input_2')\n",
    "x = Concatenate(name='concat')([input1, input2])\n",
    "\n",
    "output = Dense(1, name='output')(x)\n",
    "\n",
    "model = load_model(model_directory)\n",
    "model.summary()\n",
    "\n",
    "\n",
    "# make a model that enforces the symmetry of the EMD function by averging the outputs for swapped inputs\n",
    "\n",
    "output = Average(name='average')([model((input1, input2)), model((input2, input1))])\n",
    "sym_model = Model(inputs=[input1, input2], outputs=output, name='sym_model')\n",
    "sym_model.summary()"
   ]
  },
  {
   "cell_type": "code",
   "execution_count": 10,
   "metadata": {},
   "outputs": [
    {
     "name": "stdout",
     "output_type": "stream",
     "text": [
      "800/800 [==============================] - 14s 15ms/step - loss: 0.0083 - mse: 0.2460 - mae: 0.3842 - mape: 845263.1073 - msle: 0.0059 - val_loss: 0.0095 - val_mse: 0.2319 - val_mae: 0.3681 - val_mape: 1647378.2500 - val_msle: 0.0069\n",
      "\n",
      "Epoch 00001: val_loss improved from inf to 0.00946, saving model to load-models/testemd_model_best.h5\n",
      "\n",
      "Epoch 00001: saving model to load-models/testemd_model_last.h5\n"
     ]
    }
   ],
   "source": [
    "from tensorflow.keras.callbacks import EarlyStopping, ModelCheckpoint\n",
    "!mkdir -p load-models\n",
    "callbacks = [ModelCheckpoint('load-models/testemd_model_best.h5', monitor='val_loss', verbose=1, save_best_only=True),\n",
    "             ModelCheckpoint('load-models/testemd_model_last.h5', monitor='val_loss', verbose=1, save_last_only=True),\n",
    "            ]\n",
    "    \n",
    "sym_model.compile(optimizer='adam', loss='msle', metrics=['mse', 'mae', 'mape', 'msle'])\n",
    "history = sym_model.fit((X1_train, X2_train), y_train, \n",
    "                    validation_data=((X1_val, X2_val), y_val),\n",
    "                    epochs=1, verbose=1, batch_size=32, callbacks=callbacks)"
   ]
  },
  {
   "cell_type": "code",
   "execution_count": 11,
   "metadata": {},
   "outputs": [
    {
     "data": {
      "text/plain": [
       "<matplotlib.legend.Legend at 0x7f2b414992e0>"
      ]
     },
     "execution_count": 11,
     "metadata": {},
     "output_type": "execute_result"
    },
    {
     "data": {
      "image/png": "[encoded data removed]",
      "text/plain": [
       "<Figure size 432x288 with 1 Axes>"
      ]
     },
     "metadata": {
      "needs_background": "light"
     },
     "output_type": "display_data"
    }
   ],
   "source": [
    "plt.plot(history.history['loss'], label='Train')\n",
    "plt.plot(history.history['val_loss'], label='Val.')\n",
    "plt.xlabel('Epoch')\n",
    "plt.ylabel('MSLE loss')\n",
    "plt.legend()"
   ]
  },
  {
   "cell_type": "code",
   "execution_count": 12,
   "metadata": {},
   "outputs": [
    {
     "data": {
      "image/png": "[encoded data removed]",
      "text/plain": [
       "<Figure size 432x288 with 1 Axes>"
      ]
     },
     "metadata": {
      "needs_background": "light"
     },
     "output_type": "display_data"
    }
   ],
   "source": [
    "y_val_preds = sym_model.predict((X1_val, X2_val))\n",
    "plt.figure()\n",
    "plt.hist(y_val, alpha=0.5, bins=np.arange(0, 15, 0.1), label='True')\n",
    "plt.hist(y_val_preds, alpha=0.5, bins=np.arange(0, 15, 0.1), label='Pred.')\n",
    "plt.xlabel('EMD [GeV]')\n",
    "plt.ylabel('Samples')\n",
    "plt.legend()\n",
    "plt.show()"
   ]
  },
  {
   "cell_type": "code",
   "execution_count": 13,
   "metadata": {},
   "outputs": [
    {
     "data": {
      "image/png": "[encoded data removed]",
      "text/plain": [
       "<Figure size 432x288 with 1 Axes>"
      ]
     },
     "metadata": {
      "needs_background": "light"
     },
     "output_type": "display_data"
    }
   ],
   "source": [
    "rel_diff = (y_val_preds[y_val>0].flatten()-y_val[y_val>0].flatten())/y_val[y_val>0].flatten()\n",
    "plt.figure()\n",
    "plt.hist(rel_diff, bins=np.arange(-1, 1, 0.01), color='green', label = 'mean = {:.3f}, std. = {:.3f}'.format(np.mean(rel_diff), np.std(rel_diff)))\n",
    "plt.xlabel('EMD rel. diff.')\n",
    "plt.ylabel('Samples')\n",
    "plt.legend()\n",
    "plt.show()"
   ]
  },
  {
   "cell_type": "code",
   "execution_count": 14,
   "metadata": {},
   "outputs": [
    {
     "data": {
      "image/png": "[encoded data removed]",
      "text/plain": [
       "<Figure size 360x360 with 1 Axes>"
      ]
     },
     "metadata": {
      "needs_background": "light"
     },
     "output_type": "display_data"
    }
   ],
   "source": [
    "fig, ax = plt.subplots(figsize =(5, 5)) \n",
    "x_bins = np.arange(0, 15, 0.1)\n",
    "y_bins = np.arange(0, 15, 0.1)\n",
    "plt.hist2d(y_val.flatten(), y_val_preds.flatten(), bins=[x_bins,y_bins])\n",
    "plt.plot([0, 15], [0, 15], color='gray', alpha=0.5)\n",
    "ax.set_xlabel('True EMD [GeV]')\n",
    "ax.set_ylabel('Pred. EMD [GeV]')\n",
    "plt.show()"
   ]
  },
  {
   "cell_type": "code",
   "execution_count": null,
   "metadata": {},
   "outputs": [],
   "source": []
  }
 ],
 "metadata": {
  "kernelspec": {
   "display_name": "Python 3",
   "language": "python",
   "name": "python3"
  },
  "language_info": {
   "codemirror_mode": {
    "name": "ipython",
    "version": 3
   },
   "file_extension": ".py",
   "mimetype": "text/x-python",
   "name": "python",
   "nbconvert_exporter": "python",
   "pygments_lexer": "ipython3",
   "version": "3.8.8"
  }
 },
 "nbformat": 4,
 "nbformat_minor": 4
}
